{
 "metadata": {
  "name": "DataGrabber"
 },
 "nbformat": 3,
 "nbformat_minor": 0,
 "worksheets": [
  {
   "cells": [
    {
     "cell_type": "code",
     "collapsed": false,
     "input": [
      "%pylab inline"
     ],
     "language": "python",
     "metadata": {},
     "outputs": [
      {
       "output_type": "stream",
       "stream": "stdout",
       "text": [
        "\n",
        "Welcome to pylab, a matplotlib-based Python environment [backend: module://IPython.zmq.pylab.backend_inline].\n",
        "For more information, type 'help(pylab)'.\n"
       ]
      }
     ],
     "prompt_number": 1
    },
    {
     "cell_type": "code",
     "collapsed": false,
     "input": [
      "from nipype.interfaces.io import DataGrabber"
     ],
     "language": "python",
     "metadata": {},
     "outputs": [],
     "prompt_number": 2
    },
    {
     "cell_type": "code",
     "collapsed": false,
     "input": [
      "DataGrabber.help()"
     ],
     "language": "python",
     "metadata": {},
     "outputs": [
      {
       "output_type": "stream",
       "stream": "stdout",
       "text": [
        "Generic datagrabber module that wraps around glob in an\n",
        "intelligent way for neuroimaging tasks to grab files\n",
        "\n",
        "\n",
        ".. attention::\n",
        "\n",
        "   Doesn't support directories currently\n",
        "\n",
        "Examples\n",
        "--------\n",
        "\n",
        ">>> from nipype.interfaces.io import DataGrabber\n",
        "\n",
        "Pick all files from current directory\n",
        "\n",
        ">>> dg = DataGrabber()\n",
        ">>> dg.inputs.template = '*'\n",
        "\n",
        "Pick file foo/foo.nii from current directory\n",
        "\n",
        ">>> dg.inputs.template = '%s/%s.dcm'\n",
        ">>> dg.inputs.template_args['outfiles']=[['dicomdir','123456-1-1.dcm']]\n",
        "\n",
        "Same thing but with dynamically created fields\n",
        "\n",
        ">>> dg = DataGrabber(infields=['arg1','arg2'])\n",
        ">>> dg.inputs.template = '%s/%s.nii'\n",
        ">>> dg.inputs.arg1 = 'foo'\n",
        ">>> dg.inputs.arg2 = 'foo'\n",
        "\n",
        "however this latter form can be used with iterables and iterfield in a\n",
        "pipeline.\n",
        "\n",
        "Dynamically created, user-defined input and output fields\n",
        "\n",
        ">>> dg = DataGrabber(infields=['sid'], outfields=['func','struct','ref'])\n",
        ">>> dg.inputs.base_directory = '.'\n",
        ">>> dg.inputs.template = '%s/%s.nii'\n",
        ">>> dg.inputs.template_args['func'] = [['sid',['f3','f5']]]\n",
        ">>> dg.inputs.template_args['struct'] = [['sid',['struct']]]\n",
        ">>> dg.inputs.template_args['ref'] = [['sid','ref']]\n",
        ">>> dg.inputs.sid = 's1'\n",
        "\n",
        "Change the template only for output field struct. The rest use the\n",
        "general template\n",
        "\n",
        ">>> dg.inputs.field_template = dict(struct='%s/struct.nii')\n",
        ">>> dg.inputs.template_args['struct'] = [['sid']]\n",
        "\n",
        "Inputs::\n",
        "\n",
        "\t[Mandatory]\n",
        "\ttemplate: (a string)\n",
        "\t\tLayout used to get files. relative to base directory if defined\n",
        "\n",
        "\t[Optional]\n",
        "\tbase_directory: (an existing directory name)\n",
        "\t\tPath to the base directory consisting of subject data.\n",
        "\tignore_exception: (a boolean, nipype default value: False)\n",
        "\t\tPrint an error message instead of throwing an exception in case the interface fails to\n",
        "\t\trun\n",
        "\traise_on_empty: (a boolean, nipype default value: True)\n",
        "\t\tGenerate exception if list is empty for a given field\n",
        "\tsort_filelist: (a boolean, nipype default value: False)\n",
        "\t\tSort the filelist that matches the template\n",
        "\ttemplate_args: (a dictionary with keys which are a string and with values which are a\n",
        "\t\t list of items which are a list of items which are any value)\n",
        "\t\tInformation to plug into template\n",
        "\n",
        "Outputs::\n",
        "\n",
        "\tNone\n",
        "\n"
       ]
      }
     ],
     "prompt_number": 4
    },
    {
     "cell_type": "code",
     "collapsed": false,
     "input": [],
     "language": "python",
     "metadata": {},
     "outputs": []
    }
   ],
   "metadata": {}
  }
 ]
}