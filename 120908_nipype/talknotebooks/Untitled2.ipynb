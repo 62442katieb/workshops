{
 "metadata": {
  "name": "Untitled2"
 },
 "nbformat": 3,
 "nbformat_minor": 0,
 "worksheets": [
  {
   "cells": [
    {
     "cell_type": "code",
     "collapsed": false,
     "input": [
      "from nipype.algorithms.misc import TSNR"
     ],
     "language": "python",
     "metadata": {},
     "outputs": [],
     "prompt_number": 1
    },
    {
     "cell_type": "code",
     "collapsed": false,
     "input": [
      "tsnr = TSNR()"
     ],
     "language": "python",
     "metadata": {},
     "outputs": [],
     "prompt_number": 2
    },
    {
     "cell_type": "code",
     "collapsed": false,
     "input": [
      "tsnr.help()"
     ],
     "language": "python",
     "metadata": {},
     "outputs": [
      {
       "output_type": "stream",
       "stream": "stdout",
       "text": [
        "Computes the time-course SNR for a time series\n",
        "\n",
        "Typically you want to run this on a realigned time-series.\n",
        "\n",
        "Example\n",
        "-------\n",
        "\n",
        ">>> tsnr = TSNR()\n",
        ">>> tsnr.inputs.in_file = 'functional.nii'\n",
        ">>> res = tsnr.run() # doctest: +SKIP\n",
        "\n",
        "Inputs::\n",
        "\n",
        "\t[Mandatory]\n",
        "\tin_file: (an existing file name)\n",
        "\t\trealigned 4D file or a list of 3D files\n",
        "\n",
        "\t[Optional]\n",
        "\tignore_exception: (a boolean, nipype default value: False)\n",
        "\t\tPrint an error message instead of throwing an exception in case the interface fails to\n",
        "\t\trun\n",
        "\tregress_poly: (an integer)\n",
        "\t\tRemove polynomials\n",
        "\n",
        "Outputs::\n",
        "\n",
        "\tdetrended_file: (a file name)\n",
        "\t\tdetrended input file\n",
        "\tmean_file: (an existing file name)\n",
        "\t\tmean image file\n",
        "\tstddev_file: (an existing file name)\n",
        "\t\tstd dev image file\n",
        "\ttsnr_file: (an existing file name)\n",
        "\t\ttsnr image file\n",
        "\n"
       ]
      }
     ],
     "prompt_number": 3
    },
    {
     "cell_type": "code",
     "collapsed": false,
     "input": [
      "tsnr.inputs.in_file = \"/home/nipype_user/fmri.nii.gz\""
     ],
     "language": "python",
     "metadata": {},
     "outputs": [],
     "prompt_number": 6
    },
    {
     "cell_type": "code",
     "collapsed": false,
     "input": [
      "results = tsnr.run()"
     ],
     "language": "python",
     "metadata": {},
     "outputs": [],
     "prompt_number": 7
    },
    {
     "cell_type": "code",
     "collapsed": false,
     "input": [
      "results.outputs"
     ],
     "language": "python",
     "metadata": {},
     "outputs": [
      {
       "output_type": "pyout",
       "prompt_number": 8,
       "text": [
        "\n",
        "detrended_file = <undefined>\n",
        "mean_file = /home/nipype_user/fmri_tsnr_mean.nii.gz\n",
        "stddev_file = /home/nipype_user/fmri_tsnr_stddev.nii.gz\n",
        "tsnr_file = /home/nipype_user/fmri_tsnr.nii.gz\n"
       ]
      }
     ],
     "prompt_number": 8
    },
    {
     "cell_type": "code",
     "collapsed": false,
     "input": [
      "!fslview /home/nipype_user/fmri_tsnr.nii.gz\n"
     ],
     "language": "python",
     "metadata": {},
     "outputs": [
      {
       "output_type": "stream",
       "stream": "stdout",
       "text": [
        "Xlib:  extension \"XInputExtension\" missing on display \":1.0\".\r\n",
        "Failed to get list of devices\r\n"
       ]
      }
     ],
     "prompt_number": 9
    },
    {
     "cell_type": "code",
     "collapsed": false,
     "input": [
      "tsnr.inputs.regress_poly = 2"
     ],
     "language": "python",
     "metadata": {},
     "outputs": [],
     "prompt_number": 10
    },
    {
     "cell_type": "code",
     "collapsed": false,
     "input": [
      "tsnr.run()"
     ],
     "language": "python",
     "metadata": {},
     "outputs": [
      {
       "output_type": "pyout",
       "prompt_number": 11,
       "text": [
        "<nipype.interfaces.base.InterfaceResult at 0x7f5a882789d0>"
       ]
      }
     ],
     "prompt_number": 11
    },
    {
     "cell_type": "code",
     "collapsed": false,
     "input": [
      "newoutputs = _11"
     ],
     "language": "python",
     "metadata": {},
     "outputs": [],
     "prompt_number": 12
    },
    {
     "cell_type": "code",
     "collapsed": false,
     "input": [
      "newoutputs.outputs"
     ],
     "language": "python",
     "metadata": {},
     "outputs": [
      {
       "output_type": "pyout",
       "prompt_number": 13,
       "text": [
        "\n",
        "detrended_file = /home/nipype_user/fmri_detrended.nii.gz\n",
        "mean_file = /home/nipype_user/fmri_tsnr_mean.nii.gz\n",
        "stddev_file = /home/nipype_user/fmri_tsnr_stddev.nii.gz\n",
        "tsnr_file = /home/nipype_user/fmri_tsnr.nii.gz\n"
       ]
      }
     ],
     "prompt_number": 13
    },
    {
     "cell_type": "code",
     "collapsed": false,
     "input": [
      "!sudo mkdir /mnt/mydir"
     ],
     "language": "python",
     "metadata": {},
     "outputs": [
      {
       "output_type": "stream",
       "stream": "stdout",
       "text": [
        "[sudo] password for nipype_user: "
       ]
      },
      {
       "output_type": "stream",
       "stream": "stdout",
       "text": [
        "\r\n"
       ]
      }
     ],
     "prompt_number": 14
    },
    {
     "cell_type": "code",
     "collapsed": false,
     "input": [
      "!pwd"
     ],
     "language": "python",
     "metadata": {},
     "outputs": [
      {
       "output_type": "stream",
       "stream": "stdout",
       "text": [
        "/home/nipype_user\r\n"
       ]
      }
     ],
     "prompt_number": 16
    },
    {
     "cell_type": "code",
     "collapsed": false,
     "input": [
      "from nipype.pipeline.engine import Node\n",
      "from nipype.interfaces.fsl import MCFLIRT"
     ],
     "language": "python",
     "metadata": {},
     "outputs": [],
     "prompt_number": 18
    },
    {
     "cell_type": "code",
     "collapsed": false,
     "input": [
      "mcflirt_node = Node(interface=MCFLIRT(), name = \"realign\")"
     ],
     "language": "python",
     "metadata": {},
     "outputs": [],
     "prompt_number": 19
    },
    {
     "cell_type": "code",
     "collapsed": false,
     "input": [
      "mcflirt_node.base_dir = \"/mnt/mydir/micro_workflow\""
     ],
     "language": "python",
     "metadata": {},
     "outputs": [],
     "prompt_number": 20
    },
    {
     "cell_type": "code",
     "collapsed": false,
     "input": [
      "mcflirt_node.inputs.in_file = \"/home/nipype_user/fmri.nii.gz\""
     ],
     "language": "python",
     "metadata": {},
     "outputs": [],
     "prompt_number": 21
    },
    {
     "cell_type": "code",
     "collapsed": false,
     "input": [
      "mcflirt_node.run()"
     ],
     "language": "python",
     "metadata": {},
     "outputs": [
      {
       "output_type": "stream",
       "stream": "stdout",
       "text": [
        "120908-14:51:00,644 workflow INFO:\n",
        "\t Executing node realign in dir: /mnt/mydir/micro_workflow/realign\n"
       ]
      },
      {
       "output_type": "stream",
       "stream": "stdout",
       "text": [
        "120908-14:51:00,651 workflow INFO:\n",
        "\t Running: mcflirt -in /home/nipype_user/fmri.nii.gz -out /mnt/mydir/micro_workflow/realign/fmri_mcf.nii.gz\n"
       ]
      },
      {
       "output_type": "pyout",
       "prompt_number": 22,
       "text": [
        "<nipype.interfaces.base.InterfaceResult at 0x2c82890>"
       ]
      }
     ],
     "prompt_number": 22
    },
    {
     "cell_type": "code",
     "collapsed": false,
     "input": [
      "mcflirt_node.run()"
     ],
     "language": "python",
     "metadata": {},
     "outputs": [
      {
       "output_type": "stream",
       "stream": "stdout",
       "text": [
        "120908-14:55:21,864 workflow INFO:\n",
        "\t Executing node realign in dir: /mnt/mydir/micro_workflow/realign\n"
       ]
      },
      {
       "output_type": "stream",
       "stream": "stdout",
       "text": [
        "120908-14:55:21,865 workflow INFO:\n",
        "\t Collecting precomputed outputs\n"
       ]
      },
      {
       "output_type": "pyout",
       "prompt_number": 23,
       "text": [
        "<nipype.interfaces.base.InterfaceResult at 0x2c82510>"
       ]
      }
     ],
     "prompt_number": 23
    },
    {
     "cell_type": "code",
     "collapsed": false,
     "input": [
      "mcflirt_node.help()"
     ],
     "language": "python",
     "metadata": {},
     "outputs": [
      {
       "output_type": "stream",
       "stream": "stdout",
       "text": [
        "Wraps command **mcflirt**\n",
        "\n",
        "Use FSL MCFLIRT to do within-modality motion correction.\n",
        "\n",
        "For complete details, see the `MCFLIRT Documentation.\n",
        "<http://www.fmrib.ox.ac.uk/fsl/mcflirt/index.html>`_\n",
        "\n",
        "Examples\n",
        "--------\n",
        ">>> from nipype.interfaces import fsl\n",
        ">>> from nipype.testing import example_data\n",
        ">>> mcflt = fsl.MCFLIRT(in_file=example_data('functional.nii'), cost='mutualinfo')\n",
        ">>> res = mcflt.run() # doctest: +SKIP\n",
        "\n",
        "Inputs::\n",
        "\n",
        "\t[Mandatory]\n",
        "\tin_file: (an existing file name)\n",
        "\t\ttimeseries to motion-correct\n",
        "\n",
        "\t[Optional]\n",
        "\targs: (a string)\n",
        "\t\tAdditional parameters to the command\n",
        "\tbins: (an integer)\n",
        "\t\tnumber of histogram bins\n",
        "\tcost: ('mutualinfo' or 'woods' or 'corratio' or 'normcorr' or 'normmi' or 'leastsquares')\n",
        "\t\tcost function to optimize\n",
        "\tdof: (an integer)\n",
        "\t\tdegrees of freedom for the transformation\n",
        "\tenviron: (a dictionary with keys which are a value of type 'str' and with values which\n",
        "\t\t are a value of type 'str', nipype default value: {})\n",
        "\t\tEnvironment variables\n",
        "\tignore_exception: (a boolean, nipype default value: False)\n",
        "\t\tPrint an error message instead of throwing an exception in case the interface fails to\n",
        "\t\trun\n",
        "\tinit: (an existing file name)\n",
        "\t\tinital transformation matrix\n",
        "\tinterpolation: ('spline' or 'nn' or 'sinc')\n",
        "\t\tinterpolation method for transformation\n",
        "\tmean_vol: (a boolean)\n",
        "\t\tregister to mean volume\n",
        "\tout_file: (a file name)\n",
        "\t\tfile to write\n",
        "\toutput_type: ('NIFTI_PAIR' or 'NIFTI_PAIR_GZ' or 'NIFTI_GZ' or 'NIFTI')\n",
        "\t\tFSL output type\n",
        "\tref_file: (an existing file name)\n",
        "\t\ttarget image for motion correction\n",
        "\tref_vol: (an integer)\n",
        "\t\tvolume to align frames to\n",
        "\trotation: (an integer)\n",
        "\t\tscaling factor for rotation tolerances\n",
        "\tsave_mats: (a boolean)\n",
        "\t\tsave transformation matrices\n",
        "\tsave_plots: (a boolean)\n",
        "\t\tsave transformation parameters\n",
        "\tsave_rms: (a boolean)\n",
        "\t\tsave rms displacement parameters\n",
        "\tscaling: (a float)\n",
        "\t\tscaling factor to use\n",
        "\tsmooth: (a float)\n",
        "\t\tsmoothing factor for the cost function\n",
        "\tstages: (an integer)\n",
        "\t\tstages (if 4, perform final search with sinc interpolation\n",
        "\tstats_imgs: (a boolean)\n",
        "\t\tproduce variance and std. dev. images\n",
        "\tuse_contour: (a boolean)\n",
        "\t\trun search on contour images\n",
        "\tuse_gradient: (a boolean)\n",
        "\t\trun search on gradient images\n",
        "\n",
        "Outputs::\n",
        "\n",
        "\tmat_file: (an existing file name)\n",
        "\t\ttransformation matrices\n",
        "\tmean_img: (an existing file name)\n",
        "\t\tmean timeseries image\n",
        "\tout_file: (an existing file name)\n",
        "\t\tmotion-corrected timeseries\n",
        "\tpar_file: (an existing file name)\n",
        "\t\ttext-file with motion parameters\n",
        "\trms_files: (an existing file name)\n",
        "\t\tabsolute and relative displacement parameters\n",
        "\tstd_img: (an existing file name)\n",
        "\t\tstandard deviation image\n",
        "\tvariance_img: (an existing file name)\n",
        "\t\tvariance image\n",
        "\n"
       ]
      }
     ],
     "prompt_number": 24
    },
    {
     "cell_type": "code",
     "collapsed": false,
     "input": [
      "mcflirt_node.inputs.cost ='corratio'"
     ],
     "language": "python",
     "metadata": {},
     "outputs": [],
     "prompt_number": 25
    },
    {
     "cell_type": "code",
     "collapsed": false,
     "input": [
      "mcflirt_node.run()"
     ],
     "language": "python",
     "metadata": {},
     "outputs": [
      {
       "output_type": "stream",
       "stream": "stdout",
       "text": [
        "120908-14:59:59,564 workflow INFO:\n",
        "\t Executing node realign in dir: /mnt/mydir/micro_workflow/realign\n"
       ]
      },
      {
       "output_type": "stream",
       "stream": "stdout",
       "text": [
        "120908-14:59:59,594 workflow INFO:\n",
        "\t Running: mcflirt -in fmri.nii.gz -cost corratio -out /mnt/mydir/micro_workflow/realign/fmri_mcf.nii.gz\n"
       ]
      },
      {
       "output_type": "stream",
       "stream": "stdout",
       "text": [
        "120908-14:59:59,635 interface INFO:\n",
        "\t stderr 2012-09-08T14:59:59.635286:** ERROR (nifti_image_read): failed to find header file for 'fmri'\n"
       ]
      },
      {
       "output_type": "stream",
       "stream": "stdout",
       "text": [
        "120908-14:59:59,639 interface INFO:\n",
        "\t stderr 2012-09-08T14:59:59.639111:** ERROR: nifti_image_open(fmri): bad header info\n"
       ]
      },
      {
       "output_type": "stream",
       "stream": "stdout",
       "text": [
        "120908-14:59:59,640 interface INFO:\n",
        "\t stderr 2012-09-08T14:59:59.640371:ERROR: failed to open file fmri\n"
       ]
      },
      {
       "output_type": "stream",
       "stream": "stdout",
       "text": [
        "120908-14:59:59,641 interface INFO:\n",
        "\t stderr 2012-09-08T14:59:59.641922:ERROR: Could not open image fmri\n"
       ]
      },
      {
       "output_type": "stream",
       "stream": "stdout",
       "text": [
        "120908-14:59:59,643 interface INFO:\n",
        "\t stderr 2012-09-08T14:59:59.641922:Image Exception : #22 :: Failed to read volume fmri.nii.gz\n"
       ]
      },
      {
       "output_type": "stream",
       "stream": "stdout",
       "text": [
        "120908-14:59:59,662 interface INFO:\n",
        "\t stderr 2012-09-08T14:59:59.662128:terminate called after throwing an instance of 'RBD_COMMON::BaseException'\n"
       ]
      },
      {
       "output_type": "stream",
       "stream": "stdout",
       "text": [
        "120908-14:59:59,663 interface INFO:\n",
        "\t stderr 2012-09-08T14:59:59.662128:Aborted\n"
       ]
      },
      {
       "ename": "RuntimeError",
       "evalue": "Command:\nmcflirt -in fmri.nii.gz -cost corratio -out /mnt/mydir/micro_workflow/realign/fmri_mcf.nii.gz\nStandard output:\n\nStandard error:\n** ERROR (nifti_image_read): failed to find header file for 'fmri'\n** ERROR: nifti_image_open(fmri): bad header info\nERROR: failed to open file fmri\nERROR: Could not open image fmri\nImage Exception : #22 :: Failed to read volume fmri.nii.gz\nterminate called after throwing an instance of 'RBD_COMMON::BaseException'\nAborted\nReturn code: 134\nInterface MCFLIRT failed to run. ",
       "output_type": "pyerr",
       "traceback": [
        "\u001b[1;31m---------------------------------------------------------------------------\u001b[0m\n\u001b[1;31mRuntimeError\u001b[0m                              Traceback (most recent call last)",
        "\u001b[1;32m<ipython-input-30-c2b305e819b7>\u001b[0m in \u001b[0;36m<module>\u001b[1;34m()\u001b[0m\n\u001b[1;32m----> 1\u001b[1;33m \u001b[0mmcflirt_node\u001b[0m\u001b[1;33m.\u001b[0m\u001b[0mrun\u001b[0m\u001b[1;33m(\u001b[0m\u001b[1;33m)\u001b[0m\u001b[1;33m\u001b[0m\u001b[0m\n\u001b[0m",
        "\u001b[1;32m/usr/lib/pymodules/python2.7/nipype/pipeline/engine.pyc\u001b[0m in \u001b[0;36mrun\u001b[1;34m(self, updatehash)\u001b[0m\n\u001b[0;32m   1126\u001b[0m                     self.inputs.get_traitsfree())\n\u001b[0;32m   1127\u001b[0m             \u001b[1;32mtry\u001b[0m\u001b[1;33m:\u001b[0m\u001b[1;33m\u001b[0m\u001b[0m\n\u001b[1;32m-> 1128\u001b[1;33m                 \u001b[0mself\u001b[0m\u001b[1;33m.\u001b[0m\u001b[0m_run_interface\u001b[0m\u001b[1;33m(\u001b[0m\u001b[1;33m)\u001b[0m\u001b[1;33m\u001b[0m\u001b[0m\n\u001b[0m\u001b[0;32m   1129\u001b[0m             \u001b[1;32mexcept\u001b[0m\u001b[1;33m:\u001b[0m\u001b[1;33m\u001b[0m\u001b[0m\n\u001b[0;32m   1130\u001b[0m                 \u001b[0mos\u001b[0m\u001b[1;33m.\u001b[0m\u001b[0mremove\u001b[0m\u001b[1;33m(\u001b[0m\u001b[0mhashfile_unfinished\u001b[0m\u001b[1;33m)\u001b[0m\u001b[1;33m\u001b[0m\u001b[0m\n",
        "\u001b[1;32m/usr/lib/pymodules/python2.7/nipype/pipeline/engine.pyc\u001b[0m in \u001b[0;36m_run_interface\u001b[1;34m(self, execute, updatehash)\u001b[0m\n\u001b[0;32m   1224\u001b[0m         \u001b[0mold_cwd\u001b[0m \u001b[1;33m=\u001b[0m \u001b[0mos\u001b[0m\u001b[1;33m.\u001b[0m\u001b[0mgetcwd\u001b[0m\u001b[1;33m(\u001b[0m\u001b[1;33m)\u001b[0m\u001b[1;33m\u001b[0m\u001b[0m\n\u001b[0;32m   1225\u001b[0m         \u001b[0mos\u001b[0m\u001b[1;33m.\u001b[0m\u001b[0mchdir\u001b[0m\u001b[1;33m(\u001b[0m\u001b[0mself\u001b[0m\u001b[1;33m.\u001b[0m\u001b[0moutput_dir\u001b[0m\u001b[1;33m(\u001b[0m\u001b[1;33m)\u001b[0m\u001b[1;33m)\u001b[0m\u001b[1;33m\u001b[0m\u001b[0m\n\u001b[1;32m-> 1226\u001b[1;33m         \u001b[0mself\u001b[0m\u001b[1;33m.\u001b[0m\u001b[0m_result\u001b[0m \u001b[1;33m=\u001b[0m \u001b[0mself\u001b[0m\u001b[1;33m.\u001b[0m\u001b[0m_run_command\u001b[0m\u001b[1;33m(\u001b[0m\u001b[0mexecute\u001b[0m\u001b[1;33m)\u001b[0m\u001b[1;33m\u001b[0m\u001b[0m\n\u001b[0m\u001b[0;32m   1227\u001b[0m         \u001b[0mos\u001b[0m\u001b[1;33m.\u001b[0m\u001b[0mchdir\u001b[0m\u001b[1;33m(\u001b[0m\u001b[0mold_cwd\u001b[0m\u001b[1;33m)\u001b[0m\u001b[1;33m\u001b[0m\u001b[0m\n\u001b[0;32m   1228\u001b[0m \u001b[1;33m\u001b[0m\u001b[0m\n",
        "\u001b[1;32m/usr/lib/pymodules/python2.7/nipype/pipeline/engine.pyc\u001b[0m in \u001b[0;36m_run_command\u001b[1;34m(self, execute, copyfiles)\u001b[0m\n\u001b[0;32m   1348\u001b[0m                 \u001b[0mlogger\u001b[0m\u001b[1;33m.\u001b[0m\u001b[0minfo\u001b[0m\u001b[1;33m(\u001b[0m\u001b[1;34m'Running: %s'\u001b[0m \u001b[1;33m%\u001b[0m \u001b[0mcmd\u001b[0m\u001b[1;33m)\u001b[0m\u001b[1;33m\u001b[0m\u001b[0m\n\u001b[0;32m   1349\u001b[0m             \u001b[1;32mtry\u001b[0m\u001b[1;33m:\u001b[0m\u001b[1;33m\u001b[0m\u001b[0m\n\u001b[1;32m-> 1350\u001b[1;33m                 \u001b[0mresult\u001b[0m \u001b[1;33m=\u001b[0m \u001b[0mself\u001b[0m\u001b[1;33m.\u001b[0m\u001b[0m_interface\u001b[0m\u001b[1;33m.\u001b[0m\u001b[0mrun\u001b[0m\u001b[1;33m(\u001b[0m\u001b[1;33m)\u001b[0m\u001b[1;33m\u001b[0m\u001b[0m\n\u001b[0m\u001b[0;32m   1351\u001b[0m             \u001b[1;32mexcept\u001b[0m \u001b[0mException\u001b[0m\u001b[1;33m,\u001b[0m \u001b[0mmsg\u001b[0m\u001b[1;33m:\u001b[0m\u001b[1;33m\u001b[0m\u001b[0m\n\u001b[0;32m   1352\u001b[0m                 \u001b[0mself\u001b[0m\u001b[1;33m.\u001b[0m\u001b[0m_result\u001b[0m\u001b[1;33m.\u001b[0m\u001b[0mruntime\u001b[0m\u001b[1;33m.\u001b[0m\u001b[0mstderr\u001b[0m \u001b[1;33m=\u001b[0m \u001b[0mmsg\u001b[0m\u001b[1;33m\u001b[0m\u001b[0m\n",
        "\u001b[1;32m/usr/lib/pymodules/python2.7/nipype/interfaces/base.pyc\u001b[0m in \u001b[0;36mrun\u001b[1;34m(self, **inputs)\u001b[0m\n\u001b[0;32m    818\u001b[0m         \u001b[0mt\u001b[0m \u001b[1;33m=\u001b[0m \u001b[0mtime\u001b[0m\u001b[1;33m(\u001b[0m\u001b[1;33m)\u001b[0m\u001b[1;33m\u001b[0m\u001b[0m\n\u001b[0;32m    819\u001b[0m         \u001b[1;32mtry\u001b[0m\u001b[1;33m:\u001b[0m\u001b[1;33m\u001b[0m\u001b[0m\n\u001b[1;32m--> 820\u001b[1;33m             \u001b[0mruntime\u001b[0m \u001b[1;33m=\u001b[0m \u001b[0mself\u001b[0m\u001b[1;33m.\u001b[0m\u001b[0m_run_interface\u001b[0m\u001b[1;33m(\u001b[0m\u001b[0mruntime\u001b[0m\u001b[1;33m)\u001b[0m\u001b[1;33m\u001b[0m\u001b[0m\n\u001b[0m\u001b[0;32m    821\u001b[0m             \u001b[0mruntime\u001b[0m\u001b[1;33m.\u001b[0m\u001b[0mduration\u001b[0m \u001b[1;33m=\u001b[0m \u001b[0mtime\u001b[0m\u001b[1;33m(\u001b[0m\u001b[1;33m)\u001b[0m \u001b[1;33m-\u001b[0m \u001b[0mt\u001b[0m\u001b[1;33m\u001b[0m\u001b[0m\n\u001b[0;32m    822\u001b[0m             results = InterfaceResult(interface, runtime,\n",
        "\u001b[1;32m/usr/lib/pymodules/python2.7/nipype/interfaces/base.pyc\u001b[0m in \u001b[0;36m_run_interface\u001b[1;34m(self, runtime)\u001b[0m\n\u001b[0;32m   1098\u001b[0m         \u001b[0mruntime\u001b[0m \u001b[1;33m=\u001b[0m \u001b[0mrun_command\u001b[0m\u001b[1;33m(\u001b[0m\u001b[0mruntime\u001b[0m\u001b[1;33m)\u001b[0m\u001b[1;33m\u001b[0m\u001b[0m\n\u001b[0;32m   1099\u001b[0m         \u001b[1;32mif\u001b[0m \u001b[0mruntime\u001b[0m\u001b[1;33m.\u001b[0m\u001b[0mreturncode\u001b[0m \u001b[1;32mis\u001b[0m \u001b[0mNone\u001b[0m \u001b[1;32mor\u001b[0m \u001b[0mruntime\u001b[0m\u001b[1;33m.\u001b[0m\u001b[0mreturncode\u001b[0m \u001b[1;33m!=\u001b[0m \u001b[1;36m0\u001b[0m\u001b[1;33m:\u001b[0m\u001b[1;33m\u001b[0m\u001b[0m\n\u001b[1;32m-> 1100\u001b[1;33m             \u001b[0mself\u001b[0m\u001b[1;33m.\u001b[0m\u001b[0mraise_exception\u001b[0m\u001b[1;33m(\u001b[0m\u001b[0mruntime\u001b[0m\u001b[1;33m)\u001b[0m\u001b[1;33m\u001b[0m\u001b[0m\n\u001b[0m\u001b[0;32m   1101\u001b[0m \u001b[1;33m\u001b[0m\u001b[0m\n\u001b[0;32m   1102\u001b[0m         \u001b[1;32mreturn\u001b[0m \u001b[0mruntime\u001b[0m\u001b[1;33m\u001b[0m\u001b[0m\n",
        "\u001b[1;32m/usr/lib/pymodules/python2.7/nipype/interfaces/base.pyc\u001b[0m in \u001b[0;36mraise_exception\u001b[1;34m(self, runtime)\u001b[0m\n\u001b[0;32m   1054\u001b[0m         \u001b[0mmessage\u001b[0m \u001b[1;33m+=\u001b[0m \u001b[1;34m\"Standard error:\\n\"\u001b[0m \u001b[1;33m+\u001b[0m \u001b[0mruntime\u001b[0m\u001b[1;33m.\u001b[0m\u001b[0mstderr\u001b[0m \u001b[1;33m+\u001b[0m \u001b[1;34m\"\\n\"\u001b[0m\u001b[1;33m\u001b[0m\u001b[0m\n\u001b[0;32m   1055\u001b[0m         \u001b[0mmessage\u001b[0m \u001b[1;33m+=\u001b[0m \u001b[1;34m\"Return code: \"\u001b[0m \u001b[1;33m+\u001b[0m \u001b[0mstr\u001b[0m\u001b[1;33m(\u001b[0m\u001b[0mruntime\u001b[0m\u001b[1;33m.\u001b[0m\u001b[0mreturncode\u001b[0m\u001b[1;33m)\u001b[0m\u001b[1;33m\u001b[0m\u001b[0m\n\u001b[1;32m-> 1056\u001b[1;33m         \u001b[1;32mraise\u001b[0m \u001b[0mRuntimeError\u001b[0m\u001b[1;33m(\u001b[0m\u001b[0mmessage\u001b[0m\u001b[1;33m)\u001b[0m\u001b[1;33m\u001b[0m\u001b[0m\n\u001b[0m\u001b[0;32m   1057\u001b[0m \u001b[1;33m\u001b[0m\u001b[0m\n\u001b[0;32m   1058\u001b[0m     \u001b[1;33m@\u001b[0m\u001b[0mclassmethod\u001b[0m\u001b[1;33m\u001b[0m\u001b[0m\n",
        "\u001b[1;31mRuntimeError\u001b[0m: Command:\nmcflirt -in fmri.nii.gz -cost corratio -out /mnt/mydir/micro_workflow/realign/fmri_mcf.nii.gz\nStandard output:\n\nStandard error:\n** ERROR (nifti_image_read): failed to find header file for 'fmri'\n** ERROR: nifti_image_open(fmri): bad header info\nERROR: failed to open file fmri\nERROR: Could not open image fmri\nImage Exception : #22 :: Failed to read volume fmri.nii.gz\nterminate called after throwing an instance of 'RBD_COMMON::BaseException'\nAborted\nReturn code: 134\nInterface MCFLIRT failed to run. "
       ]
      }
     ],
     "prompt_number": 30
    },
    {
     "cell_type": "code",
     "collapsed": false,
     "input": [
      "mcflirt_node.inputs.in_file = '/home/nipype_user/fmri.nii.gz'"
     ],
     "language": "python",
     "metadata": {},
     "outputs": [],
     "prompt_number": 27
    },
    {
     "cell_type": "code",
     "collapsed": false,
     "input": [
      "mcflirt_node.run()"
     ],
     "language": "python",
     "metadata": {},
     "outputs": [
      {
       "output_type": "stream",
       "stream": "stdout",
       "text": [
        "120908-14:58:42,315 workflow INFO:\n",
        "\t Executing node realign in dir: /mnt/mydir/micro_workflow/realign\n"
       ]
      },
      {
       "output_type": "stream",
       "stream": "stdout",
       "text": [
        "120908-14:58:42,316 workflow INFO:\n",
        "\t Collecting precomputed outputs\n"
       ]
      },
      {
       "output_type": "pyout",
       "prompt_number": 28,
       "text": [
        "<nipype.interfaces.base.InterfaceResult at 0x2c924d0>"
       ]
      }
     ],
     "prompt_number": 28
    },
    {
     "cell_type": "code",
     "collapsed": false,
     "input": [
      "_28.runtime"
     ],
     "language": "python",
     "metadata": {},
     "outputs": [
      {
       "output_type": "pyout",
       "prompt_number": 29,
       "text": [
        "Bunch(cmdline='mcflirt -in /home/nipype_user/fmri.nii.gz -cost corratio -out /mnt/mydir/micro_workflow/realign/fmri_mcf.nii.gz', cwd='/mnt/mydir/micro_workflow/realign', duration=56.69465494155884, environ={'FSLDIR': '/usr/share/fsl/4.1', 'AFNI_TTATLAS_DATASET': '/usr/share/afni/atlases', 'POSSUMDIR': '/usr/share/fsl/4.1', 'LESSOPEN': '| /usr/bin/lesspipe %s', 'FSLREMOTECALL': '', 'USER': 'nipype_user', 'FSL_BIN': '/usr/share/fsl/4.1/bin', 'HOME': '/home/nipype_user', 'PATH': '/home/nipype_user/bin:/software/ANTS/:/software/DTIPrep:/usr/local/freesurfer/bin:/usr/local/freesurfer/fsfast/bin:/usr/local/freesurfer/tktools:/usr/share/fsl/4.1/bin:/usr/local/freesurfer/mni/bin:/usr/local/sbin:/usr/local/bin:/usr/sbin:/usr/bin:/sbin:/bin:/usr/X11R6/bin:/usr/lib/fsl/4.1:/usr/lib/afni/bin:/usr/lib/fsl/4.1:/usr/lib/fsl/4.1', 'LD_LIBRARY_PATH': '/usr/lib/fsl/4.1:/usr/lib/fsl/4.1:/usr/lib/fsl/4.1', 'FSLLOCKDIR': '', 'TERM': 'xterm-color', 'SHELL': '/bin/bash', 'FMRI_ANALYSIS_DIR': '/usr/local/freesurfer/fsfast', 'FSF_OUTPUT_FORMAT': 'nii.gz', 'FSLBROWSER': '/etc/alternatives/x-www-browser', 'SHLVL': '1', 'DISPLAY': ':1', 'FREESURFER_HOME': '/usr/local/freesurfer', 'WINDOWID': '10485767', 'MNI_PERL5LIB': '/usr/local/freesurfer/mni/lib/perl5/5.8.5', 'SUDO_USER': 'root', 'FSLMULTIFILEQUIT': 'TRUE', 'FSLWISH': '/usr/bin/wish', 'USERNAME': 'nipype_user', 'MINC_BIN_DIR': '/usr/local/freesurfer/mni/bin', 'SUDO_COMMAND': '/bin/sh -c vncserver  2>&1 </dev/null', 'FSFAST_HOME': '/usr/local/freesurfer/fsfast', 'PYTHONPATH': '/home/nipype_user/lib/python2.7/site-packages/', 'SUDO_UID': '0', 'AFNI_MODELPATH': '/usr/lib/afni/models', 'GIT_PAGER': 'cat', 'MNI_DIR': '/usr/local/freesurfer/mni', 'AFNI_PLUGINPATH': '/usr/lib/afni/plugins', 'MINC_LIB_DIR': '/usr/local/freesurfer/mni/lib', '_': '/home/nipype_user/bin/ipython', 'LOGNAME': 'nipype_user', 'XKL_XMODMAP_DISABLE': '1', 'FSLOUTPUTTYPE': 'NIFTI_GZ', 'SUDO_GID': '0', 'LESSCLOSE': '/usr/bin/lesspipe %s %s', 'PERL5LIB': '/usr/local/freesurfer/mni/lib/perl5/5.8.5', 'FSLMACHINELIST': '', 'FIX_VERTEX_AREA': '', 'VNCDESKTOP': 'nitrcce:1 (nipype_user)', 'AFNI_IMSAVE_WARNINGS': 'NO', 'FSLTCLSH': '/usr/bin/tclsh', 'CLICOLOR': '1', 'MNI_DATAPATH': '/usr/local/freesurfer/mni/data', 'FSL_DIR': '/usr/share/fsl/4.1', 'PWD': '/home/nipype_user', 'PAGER': 'cat', 'COLORTERM': 'Terminal', 'SUBJECTS_DIR': '/usr/local/freesurfer/subjects', 'LOCAL_DIR': '/usr/local/freesurfer/local', 'MAIL': '/var/mail/nipype_user', 'LS_COLORS': 'rs=0:di=01;34:ln=01;36:mh=00:pi=40;33:so=01;35:do=01;35:bd=40;33;01:cd=40;33;01:or=40;31;01:su=37;41:sg=30;43:ca=30;41:tw=30;42:ow=34;42:st=37;44:ex=01;32:*.tar=01;31:*.tgz=01;31:*.arj=01;31:*.taz=01;31:*.lzh=01;31:*.lzma=01;31:*.tlz=01;31:*.txz=01;31:*.zip=01;31:*.z=01;31:*.Z=01;31:*.dz=01;31:*.gz=01;31:*.lz=01;31:*.xz=01;31:*.bz2=01;31:*.bz=01;31:*.tbz=01;31:*.tbz2=01;31:*.tz=01;31:*.deb=01;31:*.rpm=01;31:*.jar=01;31:*.rar=01;31:*.ace=01;31:*.zoo=01;31:*.cpio=01;31:*.7z=01;31:*.rz=01;31:*.jpg=01;35:*.jpeg=01;35:*.gif=01;35:*.bmp=01;35:*.pbm=01;35:*.pgm=01;35:*.ppm=01;35:*.tga=01;35:*.xbm=01;35:*.xpm=01;35:*.tif=01;35:*.tiff=01;35:*.png=01;35:*.svg=01;35:*.svgz=01;35:*.mng=01;35:*.pcx=01;35:*.mov=01;35:*.mpg=01;35:*.mpeg=01;35:*.m2v=01;35:*.mkv=01;35:*.ogm=01;35:*.mp4=01;35:*.m4v=01;35:*.mp4v=01;35:*.vob=01;35:*.qt=01;35:*.nuv=01;35:*.wmv=01;35:*.asf=01;35:*.rm=01;35:*.rmvb=01;35:*.flc=01;35:*.avi=01;35:*.fli=01;35:*.flv=01;35:*.gl=01;35:*.dl=01;35:*.xcf=01;35:*.xwd=01;35:*.yuv=01;35:*.cgm=01;35:*.emf=01;35:*.axv=01;35:*.anx=01;35:*.ogv=01;35:*.ogx=01;35:*.aac=00;36:*.au=00;36:*.flac=00;36:*.mid=00;36:*.midi=00;36:*.mka=00;36:*.mp3=00;36:*.mpc=00;36:*.ogg=00;36:*.ra=00;36:*.wav=00;36:*.axa=00;36:*.oga=00;36:*.spx=00;36:*.xspf=00;36:', 'OS': 'Linux', 'FUNCTIONALS_DIR': '/usr/local/freesurfer/sessions', 'FS_OVERRIDE': '0'}, hostname='nitrcce', merged=[], returncode=0, stderr='', stdout='')"
       ]
      }
     ],
     "prompt_number": 29
    },
    {
     "cell_type": "code",
     "collapsed": false,
     "input": [
      "mcflirt_node.inputs.in_file = \"/home/nipype_user/fmri.nii.gz\"\n"
     ],
     "language": "python",
     "metadata": {},
     "outputs": [],
     "prompt_number": 31
    },
    {
     "cell_type": "code",
     "collapsed": false,
     "input": [
      "tsnr_node = Node(interface=TSNR(), name=\"tsnr\")"
     ],
     "language": "python",
     "metadata": {},
     "outputs": [],
     "prompt_number": 32
    },
    {
     "cell_type": "code",
     "collapsed": false,
     "input": [
      "from nipype.pipeline.engine import Workflow\n",
      "our_workflow = Workflow(name=\"micro_workflow\")\n",
      "our_workflow.base_dir = \"/mnt/mydir/\""
     ],
     "language": "python",
     "metadata": {},
     "outputs": [],
     "prompt_number": 35
    },
    {
     "cell_type": "code",
     "collapsed": false,
     "input": [
      "our_workflow.connect(mcflirt_node, 'out_file', tsnr_node, 'in_file')"
     ],
     "language": "python",
     "metadata": {},
     "outputs": [],
     "prompt_number": 37
    },
    {
     "cell_type": "code",
     "collapsed": false,
     "input": [],
     "language": "python",
     "metadata": {},
     "outputs": []
    }
   ],
   "metadata": {}
  }
 ]
}