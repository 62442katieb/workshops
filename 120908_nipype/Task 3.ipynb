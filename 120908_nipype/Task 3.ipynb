{
 "metadata": {
  "name": "Task 3"
 },
 "nbformat": 3,
 "nbformat_minor": 0,
 "worksheets": [
  {
   "cells": [
    {
     "cell_type": "markdown",
     "metadata": {},
     "source": [
      "## Convert two DTI images and run DTIFit"
     ]
    },
    {
     "cell_type": "code",
     "collapsed": false,
     "input": [
      "%pylab inline"
     ],
     "language": "python",
     "metadata": {},
     "outputs": [
      {
       "output_type": "stream",
       "stream": "stdout",
       "text": [
        "\n",
        "Welcome to pylab, a matplotlib-based Python environment [backend: module://IPython.zmq.pylab.backend_inline].\n",
        "For more information, type 'help(pylab)'.\n"
       ]
      }
     ],
     "prompt_number": 1
    },
    {
     "cell_type": "code",
     "collapsed": false,
     "input": [
      "from glob import glob\n",
      "from nipype.interfaces.dcm2nii import Dcm2nii\n",
      "from nipype.interfaces.fsl import DTIFit, BET\n",
      "\n",
      "import nipype.pipeline.engine as pe"
     ],
     "language": "python",
     "metadata": {},
     "outputs": [],
     "prompt_number": 2
    },
    {
     "cell_type": "markdown",
     "metadata": {},
     "source": [
      "### Version 1: Just convert 1 file"
     ]
    },
    {
     "cell_type": "code",
     "collapsed": false,
     "input": [
      "convert = pe.Node(Dcm2nii(), name='convert_dicom')\n",
      "skull_stripper = pe.Node(BET(mask=True), name = 'skull_stripper')\n",
      "dtifit = pe.Node(DTIFit(), name = 'dtifit')\n",
      "\n",
      "convert_flow = pe.Workflow(name = 'convert_and_fit')\n",
      "convert_flow.connect([(convert, dtifit, [('converted_files', 'dwi'),\n",
      "                                         ('bvals', 'bvals'),\n",
      "                                         ('bvecs', 'bvecs')]),\n",
      "                      (convert, skull_stripper, [('converted_files', 'in_file')]),\n",
      "                      (skull_stripper, dtifit, [('mask_file', 'mask')])\n",
      "                      ])"
     ],
     "language": "python",
     "metadata": {},
     "outputs": [],
     "prompt_number": 3
    },
    {
     "cell_type": "code",
     "collapsed": false,
     "input": [
      "fl = glob('/opt/data/NIPYPE_DATA/2475376/session1/DTI_mx_137/*.dcm')\n",
      "convert_flow.inputs.convert_dicom.source_names = fl[0] # or fl\n",
      "convert_flow.base_dir = '/mnt/mydir/'"
     ],
     "language": "python",
     "metadata": {},
     "outputs": [],
     "prompt_number": 4
    },
    {
     "cell_type": "code",
     "collapsed": true,
     "input": [
      "convert_flow.run()"
     ],
     "language": "python",
     "metadata": {},
     "outputs": [
      {
       "output_type": "stream",
       "stream": "stdout",
       "text": [
        "120909-08:19:34,391 workflow INFO:\n",
        "\t ['check', 'execution', 'logging']\n"
       ]
      },
      {
       "output_type": "stream",
       "stream": "stdout",
       "text": [
        "120909-08:19:34,397 workflow INFO:\n",
        "\t Running serially.\n"
       ]
      },
      {
       "output_type": "stream",
       "stream": "stdout",
       "text": [
        "120909-08:19:34,398 workflow INFO:\n",
        "\t Executing node convert_dicom in dir: /mnt/mydir/convert_and_fit/convert_dicom\n"
       ]
      },
      {
       "output_type": "stream",
       "stream": "stdout",
       "text": [
        "120909-08:19:34,399 workflow INFO:\n",
        "\t Collecting precomputed outputs\n"
       ]
      },
      {
       "output_type": "stream",
       "stream": "stdout",
       "text": [
        "120909-08:19:34,414 workflow INFO:\n",
        "\t Executing node skull_stripper in dir: /mnt/mydir/convert_and_fit/skull_stripper\n"
       ]
      },
      {
       "output_type": "stream",
       "stream": "stdout",
       "text": [
        "120909-08:19:34,416 workflow INFO:\n",
        "\t Collecting precomputed outputs\n"
       ]
      },
      {
       "output_type": "stream",
       "stream": "stdout",
       "text": [
        "120909-08:19:34,449 workflow INFO:\n",
        "\t Executing node dtifit in dir: /mnt/mydir/convert_and_fit/dtifit\n"
       ]
      },
      {
       "output_type": "stream",
       "stream": "stdout",
       "text": [
        "120909-08:19:34,450 workflow INFO:\n",
        "\t Collecting precomputed outputs\n"
       ]
      },
      {
       "output_type": "pyout",
       "prompt_number": 5,
       "text": [
        "<networkx.classes.digraph.DiGraph at 0x40d1e90>"
       ]
      }
     ],
     "prompt_number": 5
    },
    {
     "cell_type": "markdown",
     "metadata": {},
     "source": [
      "### Version 2: Mapnodes"
     ]
    },
    {
     "cell_type": "code",
     "collapsed": false,
     "input": [
      "convert = pe.MapNode(Dcm2nii(), name='convert_dicom', iterfield=['source_names'])\n",
      "skull_stripper = pe.MapNode(BET(mask=True), name = 'skull_stripper', iterfield=['in_file'])\n",
      "dtifit = pe.MapNode(DTIFit(), name = 'dtifit', iterfield=['dwi','bvals', 'bvecs','mask'])\n",
      "\n",
      "convert_flow = pe.Workflow(name = 'convert_and_fit_mapnode')\n",
      "convert_flow.connect([(convert, dtifit, [('converted_files', 'dwi'),\n",
      "                                         ('bvals', 'bvals'),\n",
      "                                         ('bvecs', 'bvecs')]),\n",
      "                      (convert, skull_stripper, [('converted_files', 'in_file')]),\n",
      "                      (skull_stripper, dtifit, [('mask_file', 'mask')])\n",
      "                      ])"
     ],
     "language": "python",
     "metadata": {},
     "outputs": [],
     "prompt_number": 6
    },
    {
     "cell_type": "code",
     "collapsed": false,
     "input": [
      "fl = glob('/opt/data/NIPYPE_DATA/2475376/session*/DTI_mx_137/*-0001.dcm')\n",
      "convert_flow.inputs.convert_dicom.source_names = fl\n",
      "convert_flow.base_dir = '/mnt/mydir/'"
     ],
     "language": "python",
     "metadata": {},
     "outputs": [],
     "prompt_number": 7
    },
    {
     "cell_type": "code",
     "collapsed": true,
     "input": [
      "execution_graph = convert_flow.run()"
     ],
     "language": "python",
     "metadata": {},
     "outputs": [
      {
       "output_type": "stream",
       "stream": "stdout",
       "text": [
        "120909-08:19:34,557 workflow INFO:\n",
        "\t ['check', 'execution', 'logging']\n"
       ]
      },
      {
       "output_type": "stream",
       "stream": "stdout",
       "text": [
        "120909-08:19:34,565 workflow INFO:\n",
        "\t Running serially.\n"
       ]
      },
      {
       "output_type": "stream",
       "stream": "stdout",
       "text": [
        "120909-08:19:34,568 workflow INFO:\n",
        "\t Executing node convert_dicom in dir: /mnt/mydir/convert_and_fit_mapnode/convert_dicom\n"
       ]
      },
      {
       "output_type": "stream",
       "stream": "stdout",
       "text": [
        "120909-08:19:34,600 workflow INFO:\n",
        "\t Executing node skull_stripper in dir: /mnt/mydir/convert_and_fit_mapnode/skull_stripper\n"
       ]
      },
      {
       "output_type": "stream",
       "stream": "stdout",
       "text": [
        "120909-08:19:34,653 workflow INFO:\n",
        "\t Executing node dtifit in dir: /mnt/mydir/convert_and_fit_mapnode/dtifit\n"
       ]
      }
     ],
     "prompt_number": 8
    },
    {
     "cell_type": "code",
     "collapsed": false,
     "input": [
      "convert_flow.write_graph()\n",
      "from IPython.display import Image\n",
      "Image(filename='/mnt/mydir/convert_and_fit_mapnode/graph.dot.png')"
     ],
     "language": "python",
     "metadata": {},
     "outputs": [
      {
       "output_type": "stream",
       "stream": "stdout",
       "text": [
        "120909-08:19:34,757 workflow INFO:\n",
        "\t Converting dotfile: /mnt/mydir/convert_and_fit_mapnode/graph.dot to png format\n"
       ]
      },
      {
       "output_type": "pyout",
       "png": "[encoded data removed]",
       "prompt_number": 9,
       "text": [
        "<IPython.core.display.Image at 0x40fb0d0>"
       ]
      }
     ],
     "prompt_number": 9
    },
    {
     "cell_type": "code",
     "collapsed": false,
     "input": [
      "nodes = execution_graph.nodes()"
     ],
     "language": "python",
     "metadata": {},
     "outputs": [],
     "prompt_number": 10
    },
    {
     "cell_type": "code",
     "collapsed": false,
     "input": [
      "def get_nodes(nodes, name):\n",
      "    return [node for node in nodes if name in str(node)]"
     ],
     "language": "python",
     "metadata": {},
     "outputs": [],
     "prompt_number": 11
    },
    {
     "cell_type": "code",
     "collapsed": false,
     "input": [
      "get_nodes(nodes, 'dtifit')[0].result.outputs"
     ],
     "language": "python",
     "metadata": {},
     "outputs": [
      {
       "output_type": "pyout",
       "prompt_number": 12,
       "text": [
        "Bunch(FA=['/mnt/mydir/convert_and_fit_mapnode/dtifit/mapflow/_dtifit0/dtifit__FA.nii.gz', '/mnt/mydir/convert_and_fit_mapnode/dtifit/mapflow/_dtifit1/dtifit__FA.nii.gz'], L1=['/mnt/mydir/convert_and_fit_mapnode/dtifit/mapflow/_dtifit0/dtifit__L1.nii.gz', '/mnt/mydir/convert_and_fit_mapnode/dtifit/mapflow/_dtifit1/dtifit__L1.nii.gz'], L2=['/mnt/mydir/convert_and_fit_mapnode/dtifit/mapflow/_dtifit0/dtifit__L2.nii.gz', '/mnt/mydir/convert_and_fit_mapnode/dtifit/mapflow/_dtifit1/dtifit__L2.nii.gz'], L3=['/mnt/mydir/convert_and_fit_mapnode/dtifit/mapflow/_dtifit0/dtifit__L3.nii.gz', '/mnt/mydir/convert_and_fit_mapnode/dtifit/mapflow/_dtifit1/dtifit__L3.nii.gz'], MD=['/mnt/mydir/convert_and_fit_mapnode/dtifit/mapflow/_dtifit0/dtifit__MD.nii.gz', '/mnt/mydir/convert_and_fit_mapnode/dtifit/mapflow/_dtifit1/dtifit__MD.nii.gz'], MO=['/mnt/mydir/convert_and_fit_mapnode/dtifit/mapflow/_dtifit0/dtifit__MO.nii.gz', '/mnt/mydir/convert_and_fit_mapnode/dtifit/mapflow/_dtifit1/dtifit__MO.nii.gz'], S0=['/mnt/mydir/convert_and_fit_mapnode/dtifit/mapflow/_dtifit0/dtifit__S0.nii.gz', '/mnt/mydir/convert_and_fit_mapnode/dtifit/mapflow/_dtifit1/dtifit__S0.nii.gz'], V1=['/mnt/mydir/convert_and_fit_mapnode/dtifit/mapflow/_dtifit0/dtifit__V1.nii.gz', '/mnt/mydir/convert_and_fit_mapnode/dtifit/mapflow/_dtifit1/dtifit__V1.nii.gz'], V2=['/mnt/mydir/convert_and_fit_mapnode/dtifit/mapflow/_dtifit0/dtifit__V2.nii.gz', '/mnt/mydir/convert_and_fit_mapnode/dtifit/mapflow/_dtifit1/dtifit__V2.nii.gz'], V3=['/mnt/mydir/convert_and_fit_mapnode/dtifit/mapflow/_dtifit0/dtifit__V3.nii.gz', '/mnt/mydir/convert_and_fit_mapnode/dtifit/mapflow/_dtifit1/dtifit__V3.nii.gz'], tensor=<undefined>)"
       ]
      }
     ],
     "prompt_number": 12
    },
    {
     "cell_type": "code",
     "collapsed": false,
     "input": [],
     "language": "python",
     "metadata": {},
     "outputs": [],
     "prompt_number": 12
    }
   ],
   "metadata": {}
  }
 ]
}