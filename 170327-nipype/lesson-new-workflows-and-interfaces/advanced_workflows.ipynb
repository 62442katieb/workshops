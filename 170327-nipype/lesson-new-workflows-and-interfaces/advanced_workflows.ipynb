{
 "cells": [
  {
   "cell_type": "markdown",
   "metadata": {
    "deletable": true,
    "editable": true
   },
   "source": [
    "# Workflows\n",
    "\n",
    "Although it would be possible to write analysis scripts using just Nipype [Interfaces](basic_interfaces.ipynb), and this may provide some advantages over directly making command-line calls, the main benefits of Nipype will come by creating workflows.\n",
    "\n",
    "A workflow controls the setup and the execution of individual interfaces. Let's assume you want to run multiple interfaces in a specific order, where some have to wait for others to finish while others can be executed in parallel. The nice thing about a nipype workflow is, that the workflow  will take care of input and output of each interface and arrange the execution of each interface in the most efficient way.\n",
    "\n",
    "A workflow therefore consists of multiple [Nodes](basic_nodes.ipynb), each representing a specific [Interface](basic_interfaces.ipynb) and directed connection between those nodes. Those connections specify which output of which node should be used as an input for another node. To better understand why this is so great, let's look at an example."
   ]
  },
  {
   "cell_type": "markdown",
   "metadata": {},
   "source": [
    "#### Let's import the code from the previous tutorial"
   ]
  },
  {
   "cell_type": "code",
   "execution_count": 1,
   "metadata": {
    "collapsed": false
   },
   "outputs": [],
   "source": [
    "import os\n",
    "import re\n",
    "import nibabel as nb\n",
    "from scipy.io import savemat\n",
    "\n",
    "from nipype.interfaces.base import (\n",
    "    BaseInterfaceInputSpec, BaseInterface,\n",
    "    CommandLine, CommandLineInputSpec,\n",
    "    File, TraitedSpec, traits\n",
    ")\n",
    "\n",
    "\n",
    "class TransformInfoInputSpec(CommandLineInputSpec):\n",
    "    in_file = File(exists=True, mandatory=True, argstr='%s', position=0, desc='the input transform file')\n",
    "    \n",
    "class TransformInfoOutputSpec(TraitedSpec):\n",
    "    translation = traits.List(traits.Float, desc='the translation component of the input transform')\n",
    "\n",
    "class TransformInfo(CommandLine):\n",
    "    _cmd = 'antsTransformInfo'\n",
    "    input_spec = TransformInfoInputSpec\n",
    "    output_spec = TransformInfoOutputSpec\n",
    "            \n",
    "    def _run_interface(self, runtime):\n",
    "        import re\n",
    "        \n",
    "        # Run the command line as a natural CommandLine interface\n",
    "        runtime = super(TransformInfo, self)._run_interface(runtime)\n",
    "\n",
    "        # Search transform in the standard output\n",
    "        expr_tra = re.compile('Translation:\\s+\\[(?P<translation>[0-9\\.-]+,\\s[0-9\\.-]+,\\s[0-9\\.-]+)\\]')\n",
    "        trans = [float(v) for v in expr_tra.search(runtime.stdout).group('translation').split(', ')]\n",
    "        \n",
    "        # Save it for later use in _list_outputs\n",
    "        setattr(self, '_result', trans)\n",
    "        \n",
    "        # Good to go\n",
    "        return runtime\n",
    "    \n",
    "    def _list_outputs(self):\n",
    "        # Get the attribute saved during _run_interface\n",
    "        return {'translation': getattr(self, '_result')}\n",
    "    \n",
    "\n",
    "class TranslateImageInputSpec(BaseInterfaceInputSpec):\n",
    "    in_file = File(exists=True, mandatory=True, desc='the input image')\n",
    "    out_file = File(mandatory=True, desc='the output image') # Do not set exists=True !!\n",
    "    translation = traits.List([100.0, 0.0, 0.0], traits.Float, usedefault=True,\n",
    "                              desc='the translation component of the input transform')\n",
    "    \n",
    "class TranslateImageOutputSpec(TraitedSpec):\n",
    "    out_file = File(desc='the output image')\n",
    "    \n",
    "class TranslateImage(BaseInterface):\n",
    "    input_spec = TranslateImageInputSpec\n",
    "    output_spec = TranslateImageOutputSpec\n",
    "    \n",
    "    def _run_interface(self, runtime):\n",
    "        # Call our python code here:\n",
    "        translate_image(\n",
    "            self.inputs.in_file,\n",
    "            self.inputs.translation,\n",
    "            self.inputs.out_file\n",
    "        )\n",
    "        # And we are done\n",
    "        return runtime\n",
    "\n",
    "    def _list_outputs(self):\n",
    "        return {'out_file': os.path.abspath(self.inputs.out_file)}\n",
    "    \n",
    "    \n",
    "class CustomBETInputSpec(CommandLineInputSpec):\n",
    "    in_file = File(exists=True, mandatory=True, argstr='%s', position=0, desc='the input image')\n",
    "    out_file = File(mandatory=True, argstr='%s', position=1, desc='the output image') # Do not set exists=True !!\n",
    "    \n",
    "class CustomBETOutputSpec(TraitedSpec):\n",
    "    out_file = File(desc='the output image')\n",
    "    \n",
    "class CustomBET(CommandLine):\n",
    "    _cmd = 'bet'\n",
    "    input_spec = CustomBETInputSpec\n",
    "    output_spec = CustomBETOutputSpec\n",
    "    \n",
    "    def _list_outputs(self):\n",
    "        # Get the attribute saved during _run_interface\n",
    "        return {'out_file': os.path.abspath(self.inputs.out_file)}\n",
    "\n",
    "\n",
    "class BrainVolumeMATLABInputSpec(BaseInterfaceInputSpec):\n",
    "    in_file = File(exists=True, mandatory=True)\n",
    "    script_file = File(exists=True, mandatory=True)\n",
    "    \n",
    "class BrainVolumeMATLABOutputSpec(TraitedSpec):\n",
    "    volume = traits.Int(desc='brain volume')\n",
    "    out_file = File(desc='text file containing the brain volume value')\n",
    "\n",
    "class BrainVolumeMATLAB(BaseInterface):\n",
    "    input_spec = BrainVolumeMATLABInputSpec\n",
    "    output_spec = BrainVolumeMATLABOutputSpec\n",
    "    \n",
    "    def _run_interface(self, runtime): \n",
    "        # Save the image in matlab format as tmp_image.mat\n",
    "        tmp_image = 'tmp_image'\n",
    "        data = nb.load(self.inputs.in_file).get_data()\n",
    "        savemat(tmp_image, {b'data': data}, do_compression=False)\n",
    "        \n",
    "        # Load script\n",
    "        with open(self.inputs.script_file) as script_file:\n",
    "            script_content = script_file.read()\n",
    "        \n",
    "        # Replace the input_image.mat file for the actual input of this interface\n",
    "        with open('newscript.m', 'w') as script_file:\n",
    "            script_file.write(script_content.replace('input_image.mat', 'tmp_image.mat'))\n",
    "\n",
    "        # Run a matlab command\n",
    "        mlab = CommandLine('octave', args='newscript.m', terminal_output='file')\n",
    "        result = mlab.run()\n",
    "        \n",
    "        expr_tra = re.compile('total\\ =\\s+(?P<total>[0-9]+)')\n",
    "        volume = int(expr_tra.search(result.runtime.stdout).groupdict()['total'])\n",
    "        setattr(self, '_result', volume)\n",
    "        \n",
    "        out_fname = os.path.abspath('volume.txt')\n",
    "        setattr(self, '_out_file', out_fname)\n",
    "        # Write out file\n",
    "        with open(out_fname, 'w') as f:\n",
    "            f.write('%d' % volume)\n",
    "        \n",
    "        return result.runtime\n",
    "\n",
    "    def _list_outputs(self):\n",
    "        outputs = self._outputs().get()\n",
    "        outputs['volume'] = getattr(self, '_result')\n",
    "        outputs['out_file'] = getattr(self, '_out_file')\n",
    "        return outputs\n",
    "    \n",
    "    \n",
    "def translate_image(img, translation, out_file):\n",
    "    import nibabel as nb\n",
    "    import numpy as np\n",
    "    from scipy.ndimage.interpolation import affine_transform\n",
    "    \n",
    "    nii = nb.load(img)\n",
    "    data = nii.get_data()\n",
    "    \n",
    "    matrix = np.eye(3)\n",
    "    trans = (np.array(translation) / nii.header.get_zooms()[:3]) * np.array([1.0, -1.0, -1.0])\n",
    "    \n",
    "    newdata = affine_transform(data, matrix=matrix, offset=trans)\n",
    "    \n",
    "    nb.Nifti1Image(newdata, nii.affine, nii.header).to_filename(out_file)\n",
    "    \n",
    "    print('Translated file now is here: %s' % out_file)\n",
    "    "
   ]
  },
  {
   "cell_type": "markdown",
   "metadata": {
    "deletable": true,
    "editable": true
   },
   "source": [
    "# My first ``Workflow``\n",
    "\n",
    "Now that we have written our precious interfaces (``TransformInfo``, ``TranslateImage``, ``CustomBET``, and ``BrainVolumeMATLAB``), let's put them together to achieve our true objective: measuring the volume of the brain after applying a translation read off an ITK transform file.\n",
    "\n",
    "In order to insert interfaces into a ``Workflow``, we need to decorate them with the ``Node`` class that makes them homogeneous to the eyes of the workflow. Let's import them:"
   ]
  },
  {
   "cell_type": "code",
   "execution_count": 2,
   "metadata": {
    "collapsed": true
   },
   "outputs": [],
   "source": [
    "from nipype import Node, Workflow"
   ]
  },
  {
   "cell_type": "markdown",
   "metadata": {},
   "source": [
    "Decorating the interfaces with ``Node`` is straightforward. The only *additional issue* we need to remember is that all ``Node``s must have a **unique name** (no dots or dashes allowed):"
   ]
  },
  {
   "cell_type": "code",
   "execution_count": 3,
   "metadata": {
    "collapsed": false,
    "deletable": true,
    "editable": true
   },
   "outputs": [],
   "source": [
    "node_bet = Node(CustomBET(out_file='brain.nii.gz'), name='custom_bet')\n",
    "node_info = Node(TransformInfo(), name='read_tfm')\n",
    "node_tfm = Node(TranslateImage(out_file='transformed.nii.gz'), name='translation')\n",
    "node_vol = Node(BrainVolumeMATLAB(), name='get_volume')"
   ]
  },
  {
   "cell_type": "markdown",
   "metadata": {},
   "source": [
    "We want these interfaces to work coordinated together. Defining how they will interconnect each other is our task when designing a processing flow. For this very simple example:\n",
    "  1. We will execute skull-stripping on our input T1-weighted image\n",
    "  2. We will apply a transform from a prescribed file to the data\n",
    "  3. Finally, we will count how many pixels of this brain are still within the field of view of the image"
   ]
  },
  {
   "cell_type": "markdown",
   "metadata": {
    "deletable": true,
    "editable": true
   },
   "source": [
    "This processing flow can be implemented by making the appropriate *connections* between the Nodes. We first create the workflow object, an empty placeholder for the nodes we connect."
   ]
  },
  {
   "cell_type": "code",
   "execution_count": 4,
   "metadata": {
    "collapsed": false,
    "deletable": true,
    "editable": true
   },
   "outputs": [],
   "source": [
    "# Initiation of a workflow\n",
    "wf = Workflow(name=\"my_first_workflow\")"
   ]
  },
  {
   "cell_type": "markdown",
   "metadata": {
    "deletable": true,
    "editable": true
   },
   "source": [
    "The Workflow object has a method called ``connect`` that is going to do most of the work here. This routine also checks if inputs and outputs are actually provided by the nodes that are being connected.\n",
    "\n",
    "There are two different ways to call ``connect``:\n",
    "\n",
    "    connect(source, \"source_output\", dest, \"dest_input\")\n",
    "\n",
    "    connect([(source, dest, [(\"source_output1\", \"dest_input1\"),\n",
    "                             (\"source_output2\", \"dest_input2\")\n",
    "                             ])\n",
    "             ])\n",
    "\n",
    "With the first approach you can establish one connection at a time. With the second you can establish multiple connects between two nodes at once. In either case, you're providing it with four pieces of information to define the connection:\n",
    "\n",
    "- The source node object\n",
    "- The name of the output field from the source node\n",
    "- The destination node object\n",
    "- The name of the input field from the destination node\n",
    "\n",
    "We'll illustrate each method in the following cell:"
   ]
  },
  {
   "cell_type": "code",
   "execution_count": 5,
   "metadata": {
    "collapsed": false,
    "deletable": true,
    "editable": true
   },
   "outputs": [],
   "source": [
    "# First the \"simple\", but more restricted method\n",
    "wf.connect(node_bet, \"out_file\", node_tfm, \"in_file\")\n",
    "\n",
    "# Now the more complicated method\n",
    "wf.connect([\n",
    "    (node_info, node_tfm, [(\"translation\", \"translation\")]),\n",
    "    (node_tfm, node_vol, [(\"out_file\", \"in_file\")])\n",
    "])"
   ]
  },
  {
   "cell_type": "markdown",
   "metadata": {
    "deletable": true,
    "editable": true
   },
   "source": [
    "Now the workflow is complete!\n",
    "\n",
    "Above, we mentioned that the workflow can be thought of as a directed acyclic graph. In fact, that's literally how it's represented behind the scenes, and we can use that to explore the workflow visually:"
   ]
  },
  {
   "cell_type": "code",
   "execution_count": 6,
   "metadata": {
    "collapsed": false,
    "deletable": true,
    "editable": true
   },
   "outputs": [
    {
     "name": "stdout",
     "output_type": "stream",
     "text": [
      "170325-01:29:00,880 workflow INFO:\n",
      "\t Converting dotfile: /home/jovyan/work/workflow_graph.dot to png format\n"
     ]
    },
    {
     "data": {
      "image/png": "[encoded data removed]",
      "text/plain": [
       "<IPython.core.display.Image object>"
      ]
     },
     "execution_count": 6,
     "metadata": {},
     "output_type": "execute_result"
    }
   ],
   "source": [
    "wf.write_graph(\"workflow_graph.dot\")\n",
    "from IPython.display import Image\n",
    "Image(filename=\"workflow_graph.dot.png\")"
   ]
  },
  {
   "cell_type": "markdown",
   "metadata": {
    "deletable": true,
    "editable": true
   },
   "source": [
    "This representation makes the dependency structure of the workflow obvious. (By the way, the names of the nodes in this graph are the names we gave our Node objects above, so pick something meaningful for those!)\n",
    "\n",
    "Certain graph types also allow you to further inspect the individual connections between the nodes. For example:"
   ]
  },
  {
   "cell_type": "code",
   "execution_count": 7,
   "metadata": {
    "collapsed": false,
    "deletable": true,
    "editable": true,
    "scrolled": false
   },
   "outputs": [
    {
     "name": "stdout",
     "output_type": "stream",
     "text": [
      "170325-01:29:00,897 workflow INFO:\n",
      "\t Creating detailed dot file: /home/jovyan/work/graph_detailed.dot\n",
      "170325-01:29:01,95 workflow INFO:\n",
      "\t Creating dot file: /home/jovyan/work/graph.dot\n"
     ]
    },
    {
     "data": {
      "image/png": "[encoded data removed]",
      "text/plain": [
       "<IPython.core.display.Image object>"
      ]
     },
     "execution_count": 7,
     "metadata": {},
     "output_type": "execute_result"
    }
   ],
   "source": [
    "wf.write_graph(graph2use='flat')\n",
    "from IPython.display import Image\n",
    "Image(filename=\"graph_detailed.dot.png\")"
   ]
  },
  {
   "cell_type": "markdown",
   "metadata": {
    "deletable": true,
    "editable": true
   },
   "source": [
    "For more information on graph visualization, see the [Graph Visualization](./basic_graph_visualization.ipynb) section."
   ]
  },
  {
   "cell_type": "markdown",
   "metadata": {
    "deletable": true,
    "editable": true
   },
   "source": [
    "But let's come back to our example. At this point, all we've done is define the workflow. We haven't executed any code yet. Much like Interface objects, the Workflow object has a ``run`` method that we can call so that it executes. Let's do that and then examine the results."
   ]
  },
  {
   "cell_type": "code",
   "execution_count": 8,
   "metadata": {
    "collapsed": false,
    "deletable": true,
    "editable": true
   },
   "outputs": [
    {
     "name": "stdout",
     "output_type": "stream",
     "text": [
      "170325-01:29:01,817 workflow INFO:\n",
      "\t Workflow my_first_workflow settings: ['check', 'execution', 'logging']\n",
      "170325-01:29:01,823 workflow INFO:\n",
      "\t Running serially.\n",
      "170325-01:29:01,824 workflow INFO:\n",
      "\t Executing node custom_bet in dir: /home/jovyan/work/working_dir/my_first_workflow/custom_bet\n",
      "170325-01:29:01,826 workflow INFO:\n",
      "\t Collecting precomputed outputs\n",
      "170325-01:29:01,828 workflow INFO:\n",
      "\t Executing node read_tfm in dir: /home/jovyan/work/working_dir/my_first_workflow/read_tfm\n",
      "170325-01:29:01,830 workflow INFO:\n",
      "\t Collecting precomputed outputs\n",
      "170325-01:29:01,836 workflow INFO:\n",
      "\t Executing node translation in dir: /home/jovyan/work/working_dir/my_first_workflow/translation\n",
      "170325-01:29:01,837 workflow INFO:\n",
      "\t Collecting precomputed outputs\n",
      "170325-01:29:01,841 workflow INFO:\n",
      "\t Executing node get_volume in dir: /home/jovyan/work/working_dir/my_first_workflow/get_volume\n"
     ]
    },
    {
     "data": {
      "text/plain": [
       "<networkx.classes.digraph.DiGraph at 0x7f92284a3050>"
      ]
     },
     "execution_count": 8,
     "metadata": {},
     "output_type": "execute_result"
    }
   ],
   "source": [
    "# Specify the base directory for the working directory\n",
    "wf.base_dir = \"working_dir\"\n",
    "\n",
    "# Specify the workflow inputs:\n",
    "wf.inputs.read_tfm.in_file = os.path.abspath('files/transform.tfm') # Note that the workflow will change the\n",
    "                                                                    # working directory to ./working_dir/\n",
    "wf.inputs.custom_bet.in_file = '/data/ds102/sub-01/anat/sub-01_T1w.nii.gz'\n",
    "wf.inputs.get_volume.script_file= os.path.abspath('files/brainvolume.m')\n",
    "\n",
    "# Execute the workflow\n",
    "wf.run()"
   ]
  },
  {
   "cell_type": "markdown",
   "metadata": {
    "deletable": true,
    "editable": true
   },
   "source": [
    "The specification of ``base_dir`` is very important (and is why we needed to use absolute paths above), because otherwise all the outputs would be saved somewhere in the temporary files. Unlike interfaces, which by default spit out results to the local directry, the Workflow engine executes things off in its own directory hierarchy."
   ]
  },
  {
   "cell_type": "code",
   "execution_count": 11,
   "metadata": {
    "collapsed": false
   },
   "outputs": [
    {
     "name": "stdout",
     "output_type": "stream",
     "text": [
      "4616324"
     ]
    }
   ],
   "source": [
    "!cat working_dir/my_first_workflow/get_volume/volume.txt"
   ]
  },
  {
   "cell_type": "markdown",
   "metadata": {
    "deletable": true,
    "editable": true
   },
   "source": [
    "Perfect!\n",
    "\n",
    "Let's also have a closer look at the working directory:"
   ]
  },
  {
   "cell_type": "code",
   "execution_count": 12,
   "metadata": {
    "collapsed": false,
    "deletable": true,
    "editable": true,
    "scrolled": false
   },
   "outputs": [
    {
     "name": "stdout",
     "output_type": "stream",
     "text": [
      "working_dir\r\n",
      "└── my_first_workflow\r\n",
      "    ├── custom_bet\r\n",
      "    │   ├── brain.nii.gz\r\n",
      "    │   └── command.txt\r\n",
      "    ├── get_volume\r\n",
      "    │   └── volume.txt\r\n",
      "    ├── read_tfm\r\n",
      "    │   └── command.txt\r\n",
      "    └── translation\r\n",
      "        └── transformed.nii.gz\r\n",
      "\r\n",
      "5 directories, 5 files\r\n"
     ]
    }
   ],
   "source": [
    "!tree working_dir -I '*js|*json|*html|*pklz|_report'"
   ]
  },
  {
   "cell_type": "markdown",
   "metadata": {
    "deletable": true,
    "editable": true
   },
   "source": [
    "As you can see, the name of the working directory is the name we gave the workflow ``base_dir``. And the name of the folder within is the name of the workflow object ``my_first_workflow``. Each node of the workflow has its own subfolder in the ``my_first_workflow`` folder. And each of those subfolders contains the output of the node as well as some additional files."
   ]
  },
  {
   "cell_type": "markdown",
   "metadata": {},
   "source": [
    "## The #1 gotcha of nipype Workflows\n",
    "\n",
    "The workflows are just DAGs (Directed Acyclic Graphs) that the runner ``Plugin`` takes in and uses to compose an ordered list of nodes for execution. As a matter of fact, running a workflow will return a graph object, as we find in the output of cell 8:\n",
    "\n",
    "  ```\n",
    "  Out[8]: <networkx.classes.digraph.DiGraph at 0x7f92284a3050>\n",
    "  ```\n",
    "  \n",
    "\n",
    "The principal implication is that ``Workflow``s *don't have inputs and outputs*, you can just access them through the ``Node`` decoration.\n",
    "\n",
    "In practical terms, this has one clear consequence: from the resulting object of the workflow execution you don't generally have access to the value of the outputs of the interfaces. This is particularly true for Plugins with asynchronous execution."
   ]
  },
  {
   "cell_type": "markdown",
   "metadata": {
    "deletable": true,
    "editable": true
   },
   "source": [
    "# Pre-defined nipype workflows"
   ]
  },
  {
   "cell_type": "markdown",
   "metadata": {
    "deletable": true,
    "editable": true
   },
   "source": [
    "When you start writing full-fledged analysis workflows, things can get quite complicated. Some aspects of neuroimaging analysis can be thought of as a coherent step at a level more abstract than the execution of a single command line binary. For instance, in the standard FEAT script in FSL, several calls are made in the process of using `susan` to perform nonlinear smoothing on an image. In Nipype, you can write **nested workflows**, where a sub-workflow can take the place of a Node in a given script.\n",
    "\n",
    "Let's use the prepackaged `susan` workflow that ships with Nipype to replace our Gaussian filtering node and demonstrate how this works."
   ]
  },
  {
   "cell_type": "code",
   "execution_count": null,
   "metadata": {
    "collapsed": true,
    "deletable": true,
    "editable": true
   },
   "outputs": [],
   "source": [
    "from nipype.workflows.fmri.fsl import create_susan_smooth"
   ]
  },
  {
   "cell_type": "markdown",
   "metadata": {
    "deletable": true,
    "editable": true
   },
   "source": [
    "Calling this function will return a pre-written `Workflow` object:"
   ]
  },
  {
   "cell_type": "code",
   "execution_count": null,
   "metadata": {
    "collapsed": false,
    "deletable": true,
    "editable": true
   },
   "outputs": [],
   "source": [
    "susan = create_susan_smooth(separate_masks=False)"
   ]
  },
  {
   "cell_type": "markdown",
   "metadata": {
    "deletable": true,
    "editable": true
   },
   "source": [
    "Let's display the graph to see what happens here."
   ]
  },
  {
   "cell_type": "code",
   "execution_count": null,
   "metadata": {
    "collapsed": false,
    "deletable": true,
    "editable": true
   },
   "outputs": [],
   "source": [
    "susan.write_graph(\"susan_workflow.dot\")\n",
    "from IPython.display import Image\n",
    "Image(filename=\"susan_workflow.dot.png\")"
   ]
  },
  {
   "cell_type": "markdown",
   "metadata": {
    "deletable": true,
    "editable": true
   },
   "source": [
    "We see that the workflow has an `inputnode` and an `outputnode`. While not strictly necessary, this is standard practice for workflows (especially those that are intended to be used as nested workflows in the context of a longer analysis graph) and makes it more clear how to connect inputs and outputs from this workflow.\n",
    "\n",
    "Let's take a look at what those inputs and outputs are. Like Nodes, Workflows have `inputs` and `outputs` attributes that take a second sub-attribute corresponding to the specific node we want to make connections to."
   ]
  },
  {
   "cell_type": "code",
   "execution_count": null,
   "metadata": {
    "collapsed": false,
    "deletable": true,
    "editable": true
   },
   "outputs": [],
   "source": [
    "print \"Inputs:\\n\", susan.inputs.inputnode\n",
    "print \"Outputs:\\n\", susan.outputs.outputnode"
   ]
  },
  {
   "cell_type": "markdown",
   "metadata": {
    "deletable": true,
    "editable": true
   },
   "source": [
    "Note that `inputnode` and `outputnode` are just conventions, and the Workflow object exposes connections to all of its component nodes:"
   ]
  },
  {
   "cell_type": "code",
   "execution_count": null,
   "metadata": {
    "collapsed": false,
    "deletable": true,
    "editable": true
   },
   "outputs": [],
   "source": [
    "susan.inputs.median"
   ]
  },
  {
   "cell_type": "markdown",
   "metadata": {
    "deletable": true,
    "editable": true
   },
   "source": [
    "Let's see how we would write a new workflow that uses this nested smoothing step.\n",
    "\n",
    "The susan workflow actually expects to receive and output a list of files (it's intended to be executed on each of several runs of fMRI data). We'll cover exactly how that works in later tutorials, but for the moment we need to add an additional ``Function`` node to deal with the fact that ``susan`` is outputting a list. We can use a simple `lambda` function to do this:"
   ]
  },
  {
   "cell_type": "code",
   "execution_count": null,
   "metadata": {
    "collapsed": true,
    "deletable": true,
    "editable": true
   },
   "outputs": [],
   "source": [
    "from nipype import Function\n",
    "extract_func = lambda list_out: list_out[0]\n",
    "list_extract = Node(Function(input_names=[\"list_out\"],\n",
    "                             output_names=[\"out_file\"],\n",
    "                             function=extract_func),\n",
    "                    name=\"list_extract\")"
   ]
  },
  {
   "cell_type": "markdown",
   "metadata": {
    "deletable": true,
    "editable": true
   },
   "source": [
    "Now let's create a new workflow ``susanflow`` that contains the ``susan`` workflow as a sub-node. To be sure, let's also recreate the ``skullstrip`` and the ``mask`` node from the examples above."
   ]
  },
  {
   "cell_type": "code",
   "execution_count": null,
   "metadata": {
    "collapsed": false,
    "deletable": true,
    "editable": true
   },
   "outputs": [],
   "source": [
    "# Initiate workflow with name and base directory\n",
    "wf2 = Workflow(name=\"susanflow\", base_dir=\"working_dir\")\n",
    "\n",
    "# Create new skullstrip and mask nodes\n",
    "skullstrip2 = Node(fsl.BET(in_file=in_file, mask=True), name=\"skullstrip\")\n",
    "mask2 = Node(fsl.ApplyMask(), name=\"mask\")\n",
    "\n",
    "# Connect the nodes to each other and to the susan workflow\n",
    "wf2.connect([(skullstrip2, mask2, [(\"mask_file\", \"mask_file\")]),\n",
    "             (skullstrip2, susan, [(\"mask_file\", \"inputnode.mask_file\")]),\n",
    "             (susan, list_extract, [(\"outputnode.smoothed_files\",\n",
    "                                     \"list_out\")]),\n",
    "             (list_extract, mask2, [(\"out_file\", \"in_file\")])\n",
    "             ])\n",
    "\n",
    "# Specify the remaining input variables for the susan workflow\n",
    "susan.inputs.inputnode.in_files = abspath(\n",
    "    \"/data/ds102/sub-02/anat/sub-02_T1w.nii.gz\")\n",
    "susan.inputs.inputnode.fwhm = 4"
   ]
  },
  {
   "cell_type": "markdown",
   "metadata": {
    "deletable": true,
    "editable": true
   },
   "source": [
    "First, let's see what this new processing graph looks like."
   ]
  },
  {
   "cell_type": "code",
   "execution_count": null,
   "metadata": {
    "collapsed": false,
    "deletable": true,
    "editable": true
   },
   "outputs": [],
   "source": [
    "wf2.write_graph(dotfilename='./full_susanflow.dot', graph2use='colored')\n",
    "from IPython.display import Image\n",
    "Image(filename=\"full_susanflow.dot.png\")"
   ]
  },
  {
   "cell_type": "markdown",
   "metadata": {
    "deletable": true,
    "editable": true
   },
   "source": [
    "We can see how there is a nested smoothing workflow (blue) in the place of our previous `smooth` node. This provides a very detailed view, but what if you just wanted to give a higher-level summary of the processing steps? After all, that is the purpose of encapsulating smaller streams in a nested workflow. That, fortunately, is an option when writing out the graph:"
   ]
  },
  {
   "cell_type": "code",
   "execution_count": null,
   "metadata": {
    "collapsed": false,
    "deletable": true,
    "editable": true
   },
   "outputs": [],
   "source": [
    "wf2.write_graph(dotfilename='./full_susanflow_toplevel.dot', graph2use='orig')\n",
    "from IPython.display import Image\n",
    "Image(filename=\"full_susanflow_toplevel.dot.png\")"
   ]
  },
  {
   "cell_type": "markdown",
   "metadata": {
    "deletable": true,
    "editable": true
   },
   "source": [
    "That's much more managable. Now let's execute the workflow"
   ]
  },
  {
   "cell_type": "code",
   "execution_count": null,
   "metadata": {
    "collapsed": false,
    "deletable": true,
    "editable": true
   },
   "outputs": [],
   "source": [
    "wf2.run()"
   ]
  },
  {
   "cell_type": "markdown",
   "metadata": {
    "deletable": true,
    "editable": true
   },
   "source": [
    "As a final step, let's look at the input and the output. It's exactly what we wanted."
   ]
  },
  {
   "cell_type": "code",
   "execution_count": null,
   "metadata": {
    "collapsed": false,
    "deletable": true,
    "editable": true
   },
   "outputs": [],
   "source": [
    "f = plt.figure(figsize=(12, 4))\n",
    "for i, e in enumerate([[\"/data/ds102/sub-02/anat/sub-02_T1w.nii.gz\", 'input'],\n",
    "                       [\"working_dir/susanflow/mask/sub-02_T1w_smooth_masked.nii.gz\", \n",
    "                        'output']]):\n",
    "    f.add_subplot(1, 2, i + 1)\n",
    "    plot_slice(e[0])\n",
    "    plt.title(e[1])"
   ]
  },
  {
   "cell_type": "markdown",
   "metadata": {
    "deletable": true,
    "editable": true
   },
   "source": [
    "# So, why are workflows so great?\n",
    "\n",
    "So far, we've seen that you can build up rather complex analysis workflows. But at the moment, it's not been made clear why this is worth the extra trouble from writing a simple procedural script. To demonstrate the first added benefit of the Nipype, let's just rerun the ``susanflow`` workflow from above and measure the execution times."
   ]
  },
  {
   "cell_type": "code",
   "execution_count": null,
   "metadata": {
    "collapsed": false,
    "deletable": true,
    "editable": true
   },
   "outputs": [],
   "source": [
    "%time\n",
    "wf2.run()"
   ]
  },
  {
   "cell_type": "markdown",
   "metadata": {
    "deletable": true,
    "editable": true
   },
   "source": [
    "That happened quickly! Workflows (actually this is handled by the Node code) are smart, and know if their inputs have changed from the last time they are run. If they have not, they don't recompute; they just turn around and pass out the resulting files from the previous run. This is done on a node-by-node basis, also.\n",
    "\n",
    "Let's go back to the first workflow example. What happened if we just tweak one thing:"
   ]
  },
  {
   "cell_type": "code",
   "execution_count": null,
   "metadata": {
    "collapsed": false,
    "deletable": true,
    "editable": true
   },
   "outputs": [],
   "source": [
    "wf.inputs.smooth.fwhm = 1\n",
    "wf.run()"
   ]
  },
  {
   "cell_type": "markdown",
   "metadata": {
    "deletable": true,
    "editable": true
   },
   "source": [
    "By changing an input value of the ``smooth`` node, this node will be re-executed. This triggers a cascade such that any file depending on the ``smooth`` node (in this case, the ``mask`` node, also recompute). However, the ``skullstrip`` node hasn't changed since the first time it ran, so it just coughed up its original files.\n",
    "\n",
    "That's one of the main benefit of using Workflows: **efficient recomputing**. \n",
    "\n",
    "Another benefits of Workflows is parallel execution, which is covered under [Plugins and Distributed Computing](./basic_plugins.ipynb). With Nipype it is very easy to up a workflow to an extremely parallel cluster computing environment.\n",
    "\n",
    "In this case, that just means that the `skullstrip` and `smooth` Nodes execute together, but when you scale up to Workflows with many subjects and many runs per subject, each can run together, such that (in the case of unlimited computing resources), you could process 50 subjects with 10 runs of functional data in essentially the time it would take to process a single run.\n",
    "\n",
    "To emphasize the contribution of Nipype here, you can write and test your workflow on one subject computing on your local CPU, where it is easier to debug. Then, with the change of a single function parameter, you can scale your processing up to a 1000+ node SGE cluster."
   ]
  }
 ],
 "metadata": {
  "anaconda-cloud": {},
  "kernelspec": {
   "display_name": "Python [default]",
   "language": "python",
   "name": "python2"
  },
  "language_info": {
   "codemirror_mode": {
    "name": "ipython",
    "version": 2
   },
   "file_extension": ".py",
   "mimetype": "text/x-python",
   "name": "python",
   "nbconvert_exporter": "python",
   "pygments_lexer": "ipython2",
   "version": "2.7.12"
  }
 },
 "nbformat": 4,
 "nbformat_minor": 0
}
